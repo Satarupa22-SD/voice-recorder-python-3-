{
 "cells": [
  {
   "cell_type": "code",
   "execution_count": 31,
   "id": "b3518a8c",
   "metadata": {},
   "outputs": [
    {
     "name": "stdout",
     "output_type": "stream",
     "text": [
      "Requirement already satisfied: sounddevice in c:\\users\\lucy22\\anaconda3\\lib\\site-packages (0.4.4)\n",
      "Requirement already satisfied: CFFI>=1.0 in c:\\users\\lucy22\\anaconda3\\lib\\site-packages (from sounddevice) (1.14.5)\n",
      "Requirement already satisfied: pycparser in c:\\users\\lucy22\\anaconda3\\lib\\site-packages (from CFFI>=1.0->sounddevice) (2.20)\n",
      "Note: you may need to restart the kernel to use updated packages.\n"
     ]
    }
   ],
   "source": [
    "pip install sounddevice"
   ]
  },
  {
   "cell_type": "code",
   "execution_count": 32,
   "id": "e12c5ff2",
   "metadata": {},
   "outputs": [],
   "source": [
    "import sounddevice"
   ]
  },
  {
   "cell_type": "code",
   "execution_count": 33,
   "id": "8c2eadba",
   "metadata": {},
   "outputs": [
    {
     "name": "stdout",
     "output_type": "stream",
     "text": [
      "Requirement already satisfied: scipy in c:\\users\\lucy22\\anaconda3\\lib\\site-packages (1.6.2)\n",
      "Requirement already satisfied: numpy<1.23.0,>=1.16.5 in c:\\users\\lucy22\\anaconda3\\lib\\site-packages (from scipy) (1.20.1)\n",
      "Note: you may need to restart the kernel to use updated packages.\n"
     ]
    }
   ],
   "source": [
    "pip install scipy"
   ]
  },
  {
   "cell_type": "code",
   "execution_count": 34,
   "id": "71047582",
   "metadata": {},
   "outputs": [],
   "source": [
    "from scipy.io.wavfile import write"
   ]
  },
  {
   "cell_type": "code",
   "execution_count": 35,
   "id": "5484898c",
   "metadata": {},
   "outputs": [],
   "source": [
    "fps= 44100"
   ]
  },
  {
   "cell_type": "code",
   "execution_count": 36,
   "id": "3c455079",
   "metadata": {},
   "outputs": [],
   "source": [
    "duration= 10"
   ]
  },
  {
   "cell_type": "code",
   "execution_count": 37,
   "id": "2e6335ed",
   "metadata": {},
   "outputs": [
    {
     "name": "stdout",
     "output_type": "stream",
     "text": [
      "recording...\n"
     ]
    }
   ],
   "source": [
    "print(\"recording...\")"
   ]
  },
  {
   "cell_type": "code",
   "execution_count": 38,
   "id": "b5f45e9a",
   "metadata": {},
   "outputs": [],
   "source": [
    "recording = sounddevice.rec((int)(duration*fps),samplerate=fps,channels=2)"
   ]
  },
  {
   "cell_type": "code",
   "execution_count": 39,
   "id": "e14fc3ef",
   "metadata": {},
   "outputs": [
    {
     "name": "stdout",
     "output_type": "stream",
     "text": [
      "done!!\n"
     ]
    }
   ],
   "source": [
    "sounddevice.wait()\n",
    "print(\"done!!\")"
   ]
  },
  {
   "cell_type": "code",
   "execution_count": 40,
   "id": "00274e2b",
   "metadata": {},
   "outputs": [],
   "source": [
    "write(\"output.wav\",fps,recording)"
   ]
  },
  {
   "cell_type": "code",
   "execution_count": null,
   "id": "223bdddc",
   "metadata": {},
   "outputs": [],
   "source": []
  }
 ],
 "metadata": {
  "kernelspec": {
   "display_name": "Python 3",
   "language": "python",
   "name": "python3"
  },
  "language_info": {
   "codemirror_mode": {
    "name": "ipython",
    "version": 3
   },
   "file_extension": ".py",
   "mimetype": "text/x-python",
   "name": "python",
   "nbconvert_exporter": "python",
   "pygments_lexer": "ipython3",
   "version": "3.8.8"
  }
 },
 "nbformat": 4,
 "nbformat_minor": 5
}
